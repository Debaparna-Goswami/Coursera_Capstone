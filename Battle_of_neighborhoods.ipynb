{
 "cells": [
  {
   "cell_type": "markdown",
   "metadata": {},
   "source": [
    "# <h1><b>Battle of Neighborhoods - A Coursera Capstone project. </b></h1>"
   ]
  },
  {
   "cell_type": "markdown",
   "metadata": {},
   "source": [
    "## <b>Introduction</b>"
   ]
  },
  {
   "cell_type": "markdown",
   "metadata": {},
   "source": [
    "Arizona and Hawaii- both the states in the United States of America have \"state of the art\" telescopes and observatories. As a grad student who wants to pursue a PhD in Astronomy, these giant visible-light range telescopes are subjects of fascination. For this capstone project, I'll explore the neighborhoods of Hawaii as well as Arizona and cluster the neighborhoods to show similarities and dissimilarities between these two places. \n",
    "\n",
    "Hopefully, students, faculty members and job-seeking candidates who want to work at the observatories of either of the mentioned places will be benefitted from this project as they will be able to make decisions about whether to stay near this place or travel from a further location, based on their preferences."
   ]
  },
  {
   "cell_type": "markdown",
   "metadata": {},
   "source": [
    "## <b>Data</b>"
   ]
  },
  {
   "cell_type": "markdown",
   "metadata": {},
   "source": [
    "### Description of the data that will be used in this project-"
   ]
  },
  {
   "cell_type": "markdown",
   "metadata": {},
   "source": [
    " - List of neighborhoods in Hawaii with their latitudes and longitudes. The types of venues have also been extracted so that segmentation and clustering is easier. \n",
    " - List of neighborhoods in Arizona with their latitudes and longitudes and similarly the types of venues have also been extracted.\n",
    " - Location data from the Foursquare API to segment and cluster the neighborhoods."
   ]
  },
  {
   "cell_type": "markdown",
   "metadata": {},
   "source": [
    "## <b>Data Sources</b>"
   ]
  },
  {
   "cell_type": "markdown",
   "metadata": {},
   "source": [
    "In this project, Ellison S Onizuka Space Center in Hawaii and Arizona Western College in Arizona will be used as the centers, around which the neighborhoods will be explored.\n",
    "\n",
    "- Geodata for Hawaii,extracted from a GeoJson file from NYU Spatial Data Repository by loading the .json file.\n",
    "- Geodata for Arizona, extracted from a GeoJson file from NYU Spatial Data Repository, extracted from a GeoJson file from NYU Spatial Data Repository by loading the .json file.\n",
    "\n",
    "While downloading the Geojson file, it is important to check if the file contains \"point\"\n",
    " features. Otherwise, in case of \"polygon\" features, extracting the types and names of neighborhoods and types of venues becomes much complicated.\n",
    " - Geocode information from Geopy. \n",
    " - Location data from the Foursquare API to segment and cluster the neighborhoods. For this segment, the CLIENT_ID and the CLIENT_SECRET is required. It is also required to specify the RADIUS  upto which distance around the specified location the \"exploring neighborhood\" process will take place."
   ]
  },
  {
   "cell_type": "code",
   "execution_count": null,
   "metadata": {},
   "outputs": [],
   "source": []
  }
 ],
 "metadata": {
  "kernelspec": {
   "display_name": "Python 3",
   "language": "python",
   "name": "python3"
  },
  "language_info": {
   "codemirror_mode": {
    "name": "ipython",
    "version": 3
   },
   "file_extension": ".py",
   "mimetype": "text/x-python",
   "name": "python",
   "nbconvert_exporter": "python",
   "pygments_lexer": "ipython3",
   "version": "3.7.6"
  }
 },
 "nbformat": 4,
 "nbformat_minor": 4
}
